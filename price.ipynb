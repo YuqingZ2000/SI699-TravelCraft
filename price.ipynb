{
 "cells": [
  {
   "cell_type": "code",
   "execution_count": 7,
   "metadata": {},
   "outputs": [],
   "source": [
    "from selenium import webdriver\n",
    "from selenium.webdriver.chrome.service import Service as ChromeService\n",
    "from webdriver_manager.chrome import ChromeDriverManager\n",
    "from selenium.webdriver.common.by import By\n",
    "from selenium.webdriver.support.ui import WebDriverWait\n",
    "from selenium.webdriver.support import expected_conditions as EC\n",
    "from lxml import html\n",
    "import requests"
   ]
  },
  {
   "cell_type": "code",
   "execution_count": null,
   "metadata": {},
   "outputs": [],
   "source": [
    "# Set up the webdriver using webdriver_manager\n",
    "#options = webdriver.ChromeOptions()\n",
    "#options.add_argument('--headless')\n",
    "#driver = webdriver.Chrome(service=ChromeService(ChromeDriverManager().install()), options=options)\n",
    "driver = webdriver.Chrome(service=ChromeService(ChromeDriverManager().install()))\n",
    "\n",
    "query_string = \"Chicago\"\n",
    "url = f\"https://www.google.com/travel/search?q={query_string}&hl=en\"\n",
    "\n",
    "# Open the webpage\n",
    "driver.get(url)"
   ]
  },
  {
   "cell_type": "code",
   "execution_count": 16,
   "metadata": {},
   "outputs": [],
   "source": [
    "# Wait for a div with jsname=\"Kmfq7d\" to be present\n",
    "try:\n",
    "    # Locate the div using XPath\n",
    "    div_element = WebDriverWait(driver, 10).until(\n",
    "        EC.presence_of_element_located((By.XPATH, '//div[@jsname=\"Kmfq7d\"]'))\n",
    "    )\n",
    "   # Execute JavaScript to change the style and make the div visible\n",
    "    driver.execute_script(\"arguments[0].style.display = 'block';\", div_element)\n",
    "except Exception as e:\n",
    "    print(f\"Error: {e}\")\n"
   ]
  },
  {
   "cell_type": "code",
   "execution_count": 24,
   "metadata": {},
   "outputs": [
    {
     "name": "stdout",
     "output_type": "stream",
     "text": [
      "['2-star hotels'] ['$81']\n",
      "['Usually $85–$161 per night in Feb']\n",
      "['3-star hotels'] ['$110']\n",
      "['Usually $124–$327 per night in Feb']\n",
      "['4-star hotels'] ['$148']\n",
      "['Usually $160–$423 per night in Feb']\n",
      "['5-star hotels'] ['$353']\n",
      "['Usually $386–$700 per night in Feb']\n"
     ]
    }
   ],
   "source": [
    "# Now the div should be visible\n",
    "parser = html.fromstring(driver.page_source)\n",
    "\n",
    "hotel_price_list = parser.xpath(\"//div[@class='VOSVAd']\")\n",
    "for star_price in hotel_price_list:\n",
    "    star = star_price.xpath(\".//div[@class='nHOjkd']/text()\")\n",
    "    price = star_price.xpath(\".//span[@class='BgYkof']/text()\")\n",
    "    explanation = star_price.xpath(\".//div[@class='f4bXyc']/text()\")\n",
    "    print(star, price)\n",
    "    print(explanation)"
   ]
  },
  {
   "cell_type": "code",
   "execution_count": 25,
   "metadata": {},
   "outputs": [],
   "source": [
    "# Close the webdriver\n",
    "driver.quit()"
   ]
  },
  {
   "cell_type": "code",
   "execution_count": null,
   "metadata": {},
   "outputs": [],
   "source": []
  },
  {
   "cell_type": "markdown",
   "metadata": {},
   "source": []
  },
  {
   "cell_type": "code",
   "execution_count": 1,
   "metadata": {},
   "outputs": [],
   "source": [
    "import requests  \n",
    "from lxml import html "
   ]
  },
  {
   "cell_type": "code",
   "execution_count": 2,
   "metadata": {},
   "outputs": [],
   "source": [
    "def get_response(query_string):\n",
    "    url = \"https://www.google.com/travel/search\"\n",
    "    headers = {\n",
    "        'User-Agent': 'Mozilla/5.0 (Macintosh; Intel Mac OS X 10_15_7) AppleWebKit/537.36 (KHTML, like Gecko) Chrome/121.0.0.0 Safari/537.36'\n",
    "    }\n",
    "    params = {\n",
    "        'q': query_string,\n",
    "    }\n",
    "    response = requests.get(url=url, headers=headers, params=params)\n",
    "    return response"
   ]
  },
  {
   "cell_type": "code",
   "execution_count": 6,
   "metadata": {},
   "outputs": [],
   "source": [
    "query_string = \"Chicago\"\n",
    "response = get_response(query_string)\n",
    "parser = html.fromstring(response.text)"
   ]
  },
  {
   "cell_type": "code",
   "execution_count": 75,
   "metadata": {},
   "outputs": [
    {
     "name": "stdout",
     "output_type": "stream",
     "text": [
      "Loading...Loading...Loading...\n"
     ]
    }
   ],
   "source": [
    "example_divs = parser.xpath(\"//div[@jsname='KYYiw']\")\n",
    "for div in example_divs:\n",
    "    print(div.text_content())"
   ]
  },
  {
   "cell_type": "code",
   "execution_count": null,
   "metadata": {},
   "outputs": [],
   "source": []
  }
 ],
 "metadata": {
  "kernelspec": {
   "display_name": "si649",
   "language": "python",
   "name": "python3"
  },
  "language_info": {
   "codemirror_mode": {
    "name": "ipython",
    "version": 3
   },
   "file_extension": ".py",
   "mimetype": "text/x-python",
   "name": "python",
   "nbconvert_exporter": "python",
   "pygments_lexer": "ipython3",
   "version": "3.10.9"
  }
 },
 "nbformat": 4,
 "nbformat_minor": 2
}
