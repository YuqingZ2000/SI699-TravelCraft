{
 "cells": [
  {
   "cell_type": "code",
   "execution_count": 5,
   "id": "0f58bbb1",
   "metadata": {},
   "outputs": [],
   "source": [
    "import requests\n",
    "from bs4 import BeautifulSoup\n",
    "import pickle\n",
    "from time import sleep"
   ]
  },
  {
   "cell_type": "code",
   "execution_count": 20,
   "id": "4c6234c0",
   "metadata": {},
   "outputs": [],
   "source": [
    "class Scraper:\n",
    "    def __init__(self,city,base_url):\n",
    "        self.base_url = base_url\n",
    "        self.attraction_url = self.CreateAttractionUrl()\n",
    "        self.BASE_HEADERS = {\n",
    "        \"User-Agent\": \"Mozilla/5.0 (Windows NT 10.0; Win64; x64) AppleWebKit/537.36 (KHTML, like Gecko) Chrome/121.0.0.0 Safari/537.36\",\n",
    "        \"Accept\": \"text/html,application/xhtml+xml,application/xml;q=0.9,image/avif,image/webp,*/*;q=0.8\",\n",
    "        \"Accept-Language\": \"en-US,en;q=0.5\",\n",
    "        \"Accept-Encoding\": \"gzip, deflate\",\n",
    "        \"Connection\": \"keep-alive\",\n",
    "        \"Upgrade-Insecure-Requests\": \"1\",\n",
    "        \"Sec-Fetch-Dest\": \"document\",\n",
    "        \"Sec-Fetch-Mode\": \"navigate\",\n",
    "        \"Sec-Fetch-Site\": \"none\",\n",
    "        \"Sec-Fetch-User\": \"?1\",\n",
    "        \"Cache-Control\": \"max-age=0\",\n",
    "        \"accept-language\": \"en-US,en;q=0.9\",\n",
    "        \"accept\": \"text/html,application/xhtml+xml,application/xml;q=0.9,image/webp,image/apng,*/*;q=0.8\",\n",
    "        \"accept-language\": \"en-US;en;q=0.9\",\n",
    "        \"accept-encoding\": \"gzip, deflate, br\",\n",
    "        'Referer': 'https://www.tripadvisor.com'\n",
    "    }\n",
    "        self.Attraction_Headers = self.BASE_HEADERS.copy()\n",
    "        self.Attraction_Headers.update({'Referer':self.base_url})\n",
    "        self.description = ''\n",
    "        self.popular_experiences = []\n",
    "        self.top_attractions = []\n",
    "        self.city_text = ''\n",
    "        self.attraction_text = ''\n",
    "        self.city = city\n",
    "        print(f'Start {self.city}')\n",
    "        \n",
    "    def CreateAttractionUrl(self):\n",
    "        splits = self.base_url.split('-')\n",
    "        return f'https://www.tripadvisor.com/Attractions-{splits[1]}-Activities-{splits[2]}.html'\n",
    "    def crawl(self):\n",
    "        city = requests.get(self.base_url, headers=self.BASE_HEADERS)\n",
    "        attraction = requests.get(self.attraction_url,headers = self.Attraction_Headers)\n",
    "        try_time = 0\n",
    "        \n",
    "        while(city.status_code != 200):\n",
    "            print(f'Try {try_time} to crawl city data')\n",
    "            sleep(10)\n",
    "            city = requests.get(self.base_url, headers=self.BASE_HEADERS)\n",
    "            try_time += 1\n",
    "        \n",
    "        city_bs= BeautifulSoup(city.text)\n",
    "        self.city_text = city.text\n",
    "        self.description = city_bs.find('div', attrs={'data-test-target': 'geo-description'}).text\n",
    "        try_time = 0\n",
    "        \n",
    "        while(attraction.status_code != 200):\n",
    "            print(f'Try {try_time} to crawl attraction data')\n",
    "            sleep(10)\n",
    "            attraction = requests.get(self.attraction_url,headers = self.Attraction_Headers)\n",
    "            try_time += 1\n",
    "        self.attraction_text = attraction.text\n",
    "        attraction_bs = BeautifulSoup(attraction.text)\n",
    "        self.popular_experiences = [x.text for x in attraction_bs.find_all('span', class_='biGQs _P vvmrG')]\n",
    "        \n",
    "    def save(self):\n",
    "# Load the data from the pickle file\n",
    "        file_path = f\"{self.city}.pkl\"\n",
    "        with open(file_path, \"wb\") as f:\n",
    "            pickle.dump(self,f)\n"
   ]
  },
  {
   "cell_type": "code",
   "execution_count": 37,
   "id": "adf04a62",
   "metadata": {},
   "outputs": [],
   "source": [
    "import pandas as pd\n",
    "cities = pd.read_csv('Top50_USA.csv')"
   ]
  },
  {
   "cell_type": "code",
   "execution_count": 41,
   "id": "afdf3eb8",
   "metadata": {},
   "outputs": [],
   "source": [
    "cities = cities.loc[46:]"
   ]
  },
  {
   "cell_type": "code",
   "execution_count": 42,
   "id": "b72e88f9",
   "metadata": {},
   "outputs": [
    {
     "data": {
      "text/html": [
       "<div>\n",
       "<style scoped>\n",
       "    .dataframe tbody tr th:only-of-type {\n",
       "        vertical-align: middle;\n",
       "    }\n",
       "\n",
       "    .dataframe tbody tr th {\n",
       "        vertical-align: top;\n",
       "    }\n",
       "\n",
       "    .dataframe thead th {\n",
       "        text-align: right;\n",
       "    }\n",
       "</style>\n",
       "<table border=\"1\" class=\"dataframe\">\n",
       "  <thead>\n",
       "    <tr style=\"text-align: right;\">\n",
       "      <th></th>\n",
       "      <th>Rank</th>\n",
       "      <th>Location</th>\n",
       "      <th>LocationId</th>\n",
       "      <th>URL</th>\n",
       "      <th>State</th>\n",
       "    </tr>\n",
       "  </thead>\n",
       "  <tbody>\n",
       "    <tr>\n",
       "      <th>46</th>\n",
       "      <td>47</td>\n",
       "      <td>Indianapolis</td>\n",
       "      <td>37209</td>\n",
       "      <td>https://www.tripadvisor.com/Tourism-g37209-Ind...</td>\n",
       "      <td>IN</td>\n",
       "    </tr>\n",
       "    <tr>\n",
       "      <th>47</th>\n",
       "      <td>48</td>\n",
       "      <td>Detroit</td>\n",
       "      <td>42139</td>\n",
       "      <td>https://www.tripadvisor.com/Tourism-g42139-Det...</td>\n",
       "      <td>MI</td>\n",
       "    </tr>\n",
       "    <tr>\n",
       "      <th>48</th>\n",
       "      <td>49</td>\n",
       "      <td>Sacramento</td>\n",
       "      <td>32999</td>\n",
       "      <td>https://www.tripadvisor.com/Tourism-g32999-Sac...</td>\n",
       "      <td>CA</td>\n",
       "    </tr>\n",
       "    <tr>\n",
       "      <th>49</th>\n",
       "      <td>50</td>\n",
       "      <td>Oakland</td>\n",
       "      <td>32810</td>\n",
       "      <td>https://www.tripadvisor.com/Tourism-g32810-Oak...</td>\n",
       "      <td>CA</td>\n",
       "    </tr>\n",
       "  </tbody>\n",
       "</table>\n",
       "</div>"
      ],
      "text/plain": [
       "    Rank      Location  LocationId  \\\n",
       "46    47  Indianapolis       37209   \n",
       "47    48       Detroit       42139   \n",
       "48    49    Sacramento       32999   \n",
       "49    50       Oakland       32810   \n",
       "\n",
       "                                                  URL State  \n",
       "46  https://www.tripadvisor.com/Tourism-g37209-Ind...    IN  \n",
       "47  https://www.tripadvisor.com/Tourism-g42139-Det...    MI  \n",
       "48  https://www.tripadvisor.com/Tourism-g32999-Sac...    CA  \n",
       "49  https://www.tripadvisor.com/Tourism-g32810-Oak...    CA  "
      ]
     },
     "execution_count": 42,
     "metadata": {},
     "output_type": "execute_result"
    }
   ],
   "source": [
    "cities"
   ]
  },
  {
   "cell_type": "code",
   "execution_count": 43,
   "id": "e2c31fa7",
   "metadata": {},
   "outputs": [
    {
     "name": "stdout",
     "output_type": "stream",
     "text": [
      "Start Indianapolis\n",
      "Start Detroit\n",
      "Start Sacramento\n",
      "Start Oakland\n"
     ]
    }
   ],
   "source": [
    "for index,row in cities.iterrows():\n",
    "    city_obj = Scraper(row['Location'],row['URL'])\n",
    "    city_obj.crawl()\n",
    "    city_obj.save()\n",
    "    sleep(5)"
   ]
  },
  {
   "cell_type": "code",
   "execution_count": 32,
   "id": "f3e8b963",
   "metadata": {},
   "outputs": [
    {
     "data": {
      "text/plain": [
       "'https://www.tripadvisor.com/Tourism-g48990-Burlington_North_Carolina-Vacations.html'"
      ]
     },
     "execution_count": 32,
     "metadata": {},
     "output_type": "execute_result"
    }
   ],
   "source": [
    "city_obj.base_url"
   ]
  }
 ],
 "metadata": {
  "kernelspec": {
   "display_name": "Python 3 (ipykernel)",
   "language": "python",
   "name": "python3"
  },
  "language_info": {
   "codemirror_mode": {
    "name": "ipython",
    "version": 3
   },
   "file_extension": ".py",
   "mimetype": "text/x-python",
   "name": "python",
   "nbconvert_exporter": "python",
   "pygments_lexer": "ipython3",
   "version": "3.9.0"
  }
 },
 "nbformat": 4,
 "nbformat_minor": 5
}
