{
 "cells": [
  {
   "cell_type": "code",
   "execution_count": 10,
   "id": "b254a35d",
   "metadata": {},
   "outputs": [
    {
     "name": "stderr",
     "output_type": "stream",
     "text": [
      "Some weights of the model checkpoint at bert-base-uncased were not used when initializing BertModel: ['cls.predictions.transform.dense.bias', 'cls.predictions.transform.LayerNorm.bias', 'cls.seq_relationship.weight', 'cls.predictions.decoder.weight', 'cls.predictions.transform.dense.weight', 'cls.seq_relationship.bias', 'cls.predictions.bias', 'cls.predictions.transform.LayerNorm.weight']\n",
      "- This IS expected if you are initializing BertModel from the checkpoint of a model trained on another task or with another architecture (e.g. initializing a BertForSequenceClassification model from a BertForPreTraining model).\n",
      "- This IS NOT expected if you are initializing BertModel from the checkpoint of a model that you expect to be exactly identical (initializing a BertForSequenceClassification model from a BertForSequenceClassification model).\n"
     ]
    },
    {
     "name": "stdout",
     "output_type": "stream",
     "text": [
      "The most compatible city based on the keyword 'Beach and Sunshine' is: About SavannahIf Southern charm was a place, it’d be Savannah, Georgia—think: walkable streets and oak trees dripping in Spanish moss. It’s where the old (over-the-top mansions, historic churches, cobblestoned streets) collides with the new (culinary trailblazers, local arts, eclectic shops), in a way that’s refreshing and still doable in a weekend. Stroll down the iconic River Street, have a beach day on Tybee Island, or spend an artsy afternoon in the Starland District—you really can’t go wrong.\n"
     ]
    }
   ],
   "source": [
    "from transformers import BertTokenizer, BertModel\n",
    "import torch\n",
    "from scipy.spatial.distance import cosine\n",
    "\n",
    "# Load pre-trained model tokenizer and model\n",
    "tokenizer = BertTokenizer.from_pretrained('bert-base-uncased')\n",
    "model = BertModel.from_pretrained('bert-base-uncased')\n",
    "\n",
    "# Function to generate embeddings\n",
    "def get_embedding(text):\n",
    "    tokens = tokenizer(text, return_tensors='pt', padding=True, truncation=True, max_length=512)\n",
    "    with torch.no_grad():\n",
    "        outputs = model(**tokens)\n",
    "    # Use the average of the last hidden states as the embedding\n",
    "    embeddings = outputs.last_hidden_state.mean(dim=1).squeeze().numpy()\n",
    "    return embeddings\n",
    "\n",
    "# Example city descriptions and keyword\n",
    "city_descriptions = cities['description']\n",
    "\n",
    "# Generate embeddings\n",
    "city_embeddings = [get_embedding(description) for description in city_descriptions]\n",
    "\n"
   ]
  },
  {
   "cell_type": "code",
   "execution_count": 18,
   "id": "3bf6daef",
   "metadata": {},
   "outputs": [
    {
     "name": "stdout",
     "output_type": "stream",
     "text": [
      "The most compatible city based on the keyword 'skii' is: About Washington DCWashington, D.C.’s rep is spot on: For history and politics, you can’t get any closer to the action. But what you might not know is its softer side. The city has over 600 parks, and in the spring, you can see the National Mall all decked out in its famous cherry blossoms. Or, stroll through Georgetown—D.C.’s oldest neighborhood—to find cool shops and restaurants alongside buildings from the 1700s. And while you definitely shouldn’t miss the major monuments and Smithsonian museums, there are plenty of lesser-known landmarks, too. Check out Hillwood Estate (go for the Russian and French art, stay for the 13-acre garden), and the Municipal Fish Market—it’s the oldest in the U.S. and it’s got killer crab cakes. We’ve got more recs where this came from, below.\n"
     ]
    }
   ],
   "source": [
    "keyword = \"skii\"\n",
    "keyword_embedding = get_embedding(keyword)\n",
    "\n",
    "# Calculate similarity and select the most compatible city\n",
    "similarities = [1 - cosine(keyword_embedding, city_embedding) for city_embedding in city_embeddings]\n",
    "most_compatible_city_index = similarities.index(max(similarities))\n",
    "most_compatible_city_description = city_descriptions[most_compatible_city_index]\n",
    "\n",
    "print(f\"The most compatible city based on the keyword '{keyword}' is: {most_compatible_city_description}\")"
   ]
  },
  {
   "cell_type": "code",
   "execution_count": 16,
   "id": "60f9fda0",
   "metadata": {},
   "outputs": [
    {
     "data": {
      "text/plain": [
       "0.4178243577480316"
      ]
     },
     "execution_count": 16,
     "metadata": {},
     "output_type": "execute_result"
    }
   ],
   "source": [
    "similarities[5]"
   ]
  },
  {
   "cell_type": "code",
   "execution_count": 12,
   "id": "2be79218",
   "metadata": {},
   "outputs": [
    {
     "data": {
      "text/plain": [
       "0.5853464007377625"
      ]
     },
     "execution_count": 12,
     "metadata": {},
     "output_type": "execute_result"
    }
   ],
   "source": [
    "similarities[24]"
   ]
  },
  {
   "cell_type": "code",
   "execution_count": 6,
   "id": "fcf89f38",
   "metadata": {},
   "outputs": [],
   "source": [
    "import pandas as pd"
   ]
  },
  {
   "cell_type": "code",
   "execution_count": 7,
   "id": "9220b7ed",
   "metadata": {},
   "outputs": [],
   "source": [
    "cities = pd.read_csv('city_description.csv')"
   ]
  },
  {
   "cell_type": "code",
   "execution_count": 19,
   "id": "84442440",
   "metadata": {},
   "outputs": [
    {
     "data": {
      "text/plain": [
       "'About Salt Lake CityKnown for the stunning backdrop afforded by the towering Wasatch Mountains –\\nand the endless opportunities for outdoor recreation they provide – Salt Lake offers\\nvisitors a uniquely vibrant and dynamic urban experience. As one of North America’s\\nmost accessible destinations, Utah’s capital city offers year-round excitement and\\nactivities for the entire family, alongside a contemporary edginess and vitality that’s\\nhelped the “new” Salt Lake become a renowned culinary destination.'"
      ]
     },
     "execution_count": 19,
     "metadata": {},
     "output_type": "execute_result"
    }
   ],
   "source": [
    "cities['description'][40]"
   ]
  }
 ],
 "metadata": {
  "kernelspec": {
   "display_name": "Python 3 (ipykernel)",
   "language": "python",
   "name": "python3"
  },
  "language_info": {
   "codemirror_mode": {
    "name": "ipython",
    "version": 3
   },
   "file_extension": ".py",
   "mimetype": "text/x-python",
   "name": "python",
   "nbconvert_exporter": "python",
   "pygments_lexer": "ipython3",
   "version": "3.9.0"
  }
 },
 "nbformat": 4,
 "nbformat_minor": 5
}
